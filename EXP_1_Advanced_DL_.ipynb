{
  "nbformat": 4,
  "nbformat_minor": 0,
  "metadata": {
    "colab": {
      "provenance": [],
      "authorship_tag": "ABX9TyMQtt07+VPWNfZDlC8Jlojx",
      "include_colab_link": true
    },
    "kernelspec": {
      "name": "python3",
      "display_name": "Python 3"
    },
    "language_info": {
      "name": "python"
    }
  },
  "cells": [
    {
      "cell_type": "markdown",
      "metadata": {
        "id": "view-in-github",
        "colab_type": "text"
      },
      "source": [
        "<a href=\"https://colab.research.google.com/github/Coder3338/deep-learning/blob/main/EXP_1_Advanced_DL_.ipynb\" target=\"_parent\"><img src=\"https://colab.research.google.com/assets/colab-badge.svg\" alt=\"Open In Colab\"/></a>"
      ]
    },
    {
      "cell_type": "code",
      "execution_count": 2,
      "metadata": {
        "id": "42UyrZ9-ctRC"
      },
      "outputs": [],
      "source": [
        "from __future__ import print_function\n",
        "import tensorflow as tf\n"
      ]
    },
    {
      "cell_type": "code",
      "source": [
        "\n",
        "import tensorflow as tf\n",
        "\n",
        "primes = tf.constant([2,4,6,8,10,12], dtype=tf.int32)\n",
        "print(\"primes:\", primes)\n",
        "\n",
        "ones = tf.ones([6], dtype=tf.int32)\n",
        "print(\"ones:\", ones)\n",
        "\n",
        "just_beyond_primes = tf.add(primes, ones)\n",
        "print(\"just_beyond_primes:\", just_beyond_primes)\n",
        "\n",
        "twos = tf.constant([4,4,4,4,4,4], dtype=tf.int32)\n",
        "primes_doubled = primes + twos\n",
        "print(\"primes_doubled:\", primes_doubled)\n",
        "\n",
        "some_matrix = tf.constant([[2,3,4], [1,2,3],[2,3,4]], dtype=tf.int32)\n",
        "print(some_matrix)\n",
        "\n",
        "print(\"\\nvalue of some_matrix is:\\n\", some_matrix.numpy())\n"
      ],
      "metadata": {
        "colab": {
          "base_uri": "https://localhost:8080/"
        },
        "id": "KnK_f_HieweD",
        "outputId": "c9ad88a6-7e9e-4568-e834-12c73c5a0629"
      },
      "execution_count": 9,
      "outputs": [
        {
          "output_type": "stream",
          "name": "stdout",
          "text": [
            "primes: tf.Tensor([ 2  4  6  8 10 12], shape=(6,), dtype=int32)\n",
            "ones: tf.Tensor([1 1 1 1 1 1], shape=(6,), dtype=int32)\n",
            "just_beyond_primes: tf.Tensor([ 3  5  7  9 11 13], shape=(6,), dtype=int32)\n",
            "primes_doubled: tf.Tensor([ 6  8 10 12 14 16], shape=(6,), dtype=int32)\n",
            "tf.Tensor(\n",
            "[[2 3 4]\n",
            " [1 2 3]\n",
            " [2 3 4]], shape=(3, 3), dtype=int32)\n",
            "\n",
            "value of some_matrix is:\n",
            " [[2 3 4]\n",
            " [1 2 3]\n",
            " [2 3 4]]\n"
          ]
        }
      ]
    },
    {
      "cell_type": "code",
      "source": [],
      "metadata": {
        "id": "BMNpPAtADUoR"
      },
      "execution_count": null,
      "outputs": []
    }
  ]
}